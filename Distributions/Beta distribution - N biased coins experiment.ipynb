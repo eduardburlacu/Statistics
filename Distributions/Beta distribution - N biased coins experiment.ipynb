{
 "cells": [
  {
   "cell_type": "markdown",
   "id": "46d3400c",
   "metadata": {},
   "source": [
    "# Beta distribution - N biased coins"
   ]
  },
  {
   "cell_type": "code",
   "execution_count": 2,
   "id": "d31965d4",
   "metadata": {},
   "outputs": [],
   "source": [
    "import numpy as np\n",
    "import matplotlib.pyplot as plt\n",
    "import seaborn as sns\n",
    "%matplotlib inline\n",
    "from ipywidgets import interact"
   ]
  },
  {
   "cell_type": "markdown",
   "id": "eeda5a08",
   "metadata": {},
   "source": [
    "Here we are going to set the bias for every coin."
   ]
  },
  {
   "cell_type": "code",
   "execution_count": 19,
   "id": "a159aacf",
   "metadata": {},
   "outputs": [],
   "source": [
    "def get_probabilities_coins(prob,n,k):\n",
    "    N = len(prob)\n",
    "    coins_chance = ( prob**k*(1-prob)**(n-k) )\n",
    "    #print(coins_chance)\n",
    "    coins_chance = coins_chance / np.linalg.norm(coins_chance)\n",
    "    plt.plot(prob,coins_chance)\n",
    "    plt.grid()\n",
    "    plt.xlabel('Coin Probability')\n",
    "    plt.ylabel('Probability of the coin to be the output')\n",
    "    plt.title(f'Simulation of Beta distribution: x^{k}*(1-x)^{n-k}/B({n+1}, {k+1})')\n"
   ]
  },
  {
   "cell_type": "code",
   "execution_count": 18,
   "id": "e68ac976",
   "metadata": {},
   "outputs": [
    {
     "data": {
      "application/vnd.jupyter.widget-view+json": {
       "model_id": "2cfda58b1a964cd6895925c1806e433c",
       "version_major": 2,
       "version_minor": 0
      },
      "text/plain": [
       "interactive(children=(IntSlider(value=25, description='n', max=50, min=1), IntSlider(value=25, description='k'…"
      ]
     },
     "metadata": {},
     "output_type": "display_data"
    },
    {
     "data": {
      "text/plain": [
       "<function __main__.<lambda>(n, k)>"
      ]
     },
     "execution_count": 18,
     "metadata": {},
     "output_type": "execute_result"
    }
   ],
   "source": [
    "coins_prob = np.arange(0,1,0.01)\n",
    "output= lambda n,k: get_probabilities_coins(coins_prob,n,k)\n",
    "interact(output, n=(1,50,1),k=(1,50,1))"
   ]
  },
  {
   "cell_type": "code",
   "execution_count": null,
   "id": "a11360fa",
   "metadata": {},
   "outputs": [],
   "source": []
  }
 ],
 "metadata": {
  "kernelspec": {
   "display_name": "Python 3 (ipykernel)",
   "language": "python",
   "name": "python3"
  },
  "language_info": {
   "codemirror_mode": {
    "name": "ipython",
    "version": 3
   },
   "file_extension": ".py",
   "mimetype": "text/x-python",
   "name": "python",
   "nbconvert_exporter": "python",
   "pygments_lexer": "ipython3",
   "version": "3.9.12"
  }
 },
 "nbformat": 4,
 "nbformat_minor": 5
}
